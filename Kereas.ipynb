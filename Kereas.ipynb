{
 "cells": [
  {
   "cell_type": "code",
   "execution_count": 44,
   "metadata": {},
   "outputs": [
    {
     "name": "stdout",
     "output_type": "stream",
     "text": [
      "(1000, 100)\n",
      "Epoch 1/20\n",
      "1000/1000 [==============================] - 0s 178us/step - loss: 0.7068 - accuracy: 0.5230\n",
      "Epoch 2/20\n",
      "1000/1000 [==============================] - 0s 85us/step - loss: 0.6924 - accuracy: 0.5370\n",
      "Epoch 3/20\n",
      "1000/1000 [==============================] - 0s 95us/step - loss: 0.6878 - accuracy: 0.5400\n",
      "Epoch 4/20\n",
      "1000/1000 [==============================] - 0s 133us/step - loss: 0.6823 - accuracy: 0.5580\n",
      "Epoch 5/20\n",
      "1000/1000 [==============================] - 0s 120us/step - loss: 0.6777 - accuracy: 0.5720\n",
      "Epoch 6/20\n",
      "1000/1000 [==============================] - 0s 106us/step - loss: 0.6735 - accuracy: 0.5830\n",
      "Epoch 7/20\n",
      "1000/1000 [==============================] - 0s 94us/step - loss: 0.6693 - accuracy: 0.6010\n",
      "Epoch 8/20\n",
      "1000/1000 [==============================] - 0s 94us/step - loss: 0.6649 - accuracy: 0.5960\n",
      "Epoch 9/20\n",
      "1000/1000 [==============================] - 0s 99us/step - loss: 0.6587 - accuracy: 0.6030\n",
      "Epoch 10/20\n",
      "1000/1000 [==============================] - 0s 98us/step - loss: 0.6575 - accuracy: 0.5940\n",
      "Epoch 11/20\n",
      "1000/1000 [==============================] - 0s 128us/step - loss: 0.6551 - accuracy: 0.6230\n",
      "Epoch 12/20\n",
      "1000/1000 [==============================] - 0s 112us/step - loss: 0.6490 - accuracy: 0.6170\n",
      "Epoch 13/20\n",
      "1000/1000 [==============================] - 0s 112us/step - loss: 0.6487 - accuracy: 0.6320\n",
      "Epoch 14/20\n",
      "1000/1000 [==============================] - 0s 119us/step - loss: 0.6440 - accuracy: 0.6330\n",
      "Epoch 15/20\n",
      "1000/1000 [==============================] - 0s 215us/step - loss: 0.6372 - accuracy: 0.6400\n",
      "Epoch 16/20\n",
      "1000/1000 [==============================] - 0s 123us/step - loss: 0.6341 - accuracy: 0.6560\n",
      "Epoch 17/20\n",
      "1000/1000 [==============================] - 0s 97us/step - loss: 0.6315 - accuracy: 0.6550\n",
      "Epoch 18/20\n",
      "1000/1000 [==============================] - 0s 155us/step - loss: 0.6250 - accuracy: 0.6550\n",
      "Epoch 19/20\n",
      "1000/1000 [==============================] - 0s 136us/step - loss: 0.6244 - accuracy: 0.6530\n",
      "Epoch 20/20\n",
      "1000/1000 [==============================] - 0s 103us/step - loss: 0.6144 - accuracy: 0.6850\n"
     ]
    },
    {
     "data": {
      "text/plain": [
       "<keras.callbacks.callbacks.History at 0x18a9d488>"
      ]
     },
     "execution_count": 44,
     "metadata": {},
     "output_type": "execute_result"
    },
    {
     "data": {
      "image/png": "[encoded data removed]",
      "text/plain": [
       "<Figure size 432x288 with 1 Axes>"
      ]
     },
     "metadata": {
      "needs_background": "light"
     },
     "output_type": "display_data"
    }
   ],
   "source": [
    "\n",
    "from keras.models import Sequential\n",
    "from keras.layers import Dense, Activation\n",
    "import matplotlib.pyplot as plt \n",
    "import seaborn as sns\n",
    "\n",
    "# 对于具有 2 个类的单输入模型（二进制分类）：\n",
    "\n",
    "model = Sequential()\n",
    "model.add(Dense(32, activation='relu', input_dim=100))\n",
    "model.add(Dense(1, activation='sigmoid'))\n",
    "model.compile(optimizer='rmsprop',\n",
    "              loss='binary_crossentropy',\n",
    "              metrics=['accuracy'])\n",
    "\n",
    "# 生成虚拟数据\n",
    "import numpy as np\n",
    "data = np.random.random((1000, 100))\n",
    "print(data.shape)\n",
    "\n",
    "labels = np.random.randint(2, size=(1000, 1))\n",
    "\n",
    "#plt.figure(figsize=(10,7))\n",
    "#plt.hist(data)\n",
    "sns.distplot(data[:,1],hist= False,rug=True)\n",
    "\n",
    "# 训练模型，以 32 个样本为一个 batch 进行迭代\n",
    "model.fit(data, labels, epochs=20, batch_size=16)"
   ]
  },
  {
   "cell_type": "code",
   "execution_count": 45,
   "metadata": {},
   "outputs": [
    {
     "name": "stdout",
     "output_type": "stream",
     "text": [
      "Epoch 1/10\n",
      "100/100 [==============================] - 7s 70ms/step - loss: 2.3764\n",
      "Epoch 2/10\n",
      "100/100 [==============================] - 5s 45ms/step - loss: 2.3488\n",
      "Epoch 3/10\n",
      "100/100 [==============================] - 4s 43ms/step - loss: 2.3032\n",
      "Epoch 4/10\n",
      "100/100 [==============================] - 5s 47ms/step - loss: 2.2901\n",
      "Epoch 5/10\n",
      "100/100 [==============================] - 4s 44ms/step - loss: 2.3001\n",
      "Epoch 6/10\n",
      "100/100 [==============================] - 4s 44ms/step - loss: 2.2811\n",
      "Epoch 7/10\n",
      "100/100 [==============================] - 4s 45ms/step - loss: 2.2660\n",
      "Epoch 8/10\n",
      "100/100 [==============================] - 4s 44ms/step - loss: 2.2989\n",
      "Epoch 9/10\n",
      "100/100 [==============================] - 5s 45ms/step - loss: 2.2708\n",
      "Epoch 10/10\n",
      "100/100 [==============================] - 4s 44ms/step - loss: 2.2746\n",
      "20/20 [==============================] - 0s 12ms/step\n"
     ]
    }
   ],
   "source": [
    "import numpy as np\n",
    "import keras\n",
    "from keras.models import Sequential\n",
    "from keras.layers import Dense, Dropout, Flatten\n",
    "from keras.layers import Conv2D, MaxPooling2D\n",
    "from keras.optimizers import SGD\n",
    "\n",
    "# 生成虚拟数据\n",
    "x_train = np.random.random((100, 100, 100, 3))\n",
    "y_train = keras.utils.to_categorical(np.random.randint(10, size=(100, 1)), num_classes=10)\n",
    "x_test = np.random.random((20, 100, 100, 3))\n",
    "y_test = keras.utils.to_categorical(np.random.randint(10, size=(20, 1)), num_classes=10)\n",
    "\n",
    "model = Sequential()\n",
    "# 输入: 3 通道 100x100 像素图像 -> (100, 100, 3) 张量。\n",
    "# 使用 32 个大小为 3x3 的卷积滤波器。\n",
    "model.add(Conv2D(32, (3, 3), activation='relu', input_shape=(100, 100, 3)))\n",
    "model.add(Conv2D(32, (3, 3), activation='relu'))\n",
    "model.add(MaxPooling2D(pool_size=(2, 2)))\n",
    "model.add(Dropout(0.25))\n",
    "\n",
    "model.add(Conv2D(64, (3, 3), activation='relu'))\n",
    "model.add(Conv2D(64, (3, 3), activation='relu'))\n",
    "model.add(MaxPooling2D(pool_size=(2, 2)))\n",
    "model.add(Dropout(0.25))\n",
    "\n",
    "model.add(Flatten())\n",
    "model.add(Dense(256, activation='relu'))\n",
    "model.add(Dropout(0.5))\n",
    "model.add(Dense(10, activation='softmax'))\n",
    "\n",
    "sgd = SGD(lr=0.01, decay=1e-6, momentum=0.9, nesterov=True)\n",
    "model.compile(loss='categorical_crossentropy', optimizer=sgd)\n",
    "\n",
    "model.fit(x_train, y_train, batch_size=32, epochs=10)\n",
    "score = model.evaluate(x_test, y_test, batch_size=32)"
   ]
  },
  {
   "cell_type": "code",
   "execution_count": null,
   "metadata": {},
   "outputs": [],
   "source": []
  }
 ],
 "metadata": {
  "kernelspec": {
   "display_name": "Python 3",
   "language": "python",
   "name": "python3"
  },
  "language_info": {
   "codemirror_mode": {
    "name": "ipython",
    "version": 3
   },
   "file_extension": ".py",
   "mimetype": "text/x-python",
   "name": "python",
   "nbconvert_exporter": "python",
   "pygments_lexer": "ipython3",
   "version": "3.7.4"
  }
 },
 "nbformat": 4,
 "nbformat_minor": 2
}
